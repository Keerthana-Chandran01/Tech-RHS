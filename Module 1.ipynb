{
 "cells": [
  {
   "cell_type": "code",
   "execution_count": 1,
   "metadata": {},
   "outputs": [],
   "source": [
    "import warnings\n",
    "warnings.filterwarnings('ignore')"
   ]
  },
  {
   "cell_type": "code",
   "execution_count": 2,
   "metadata": {},
   "outputs": [],
   "source": [
    "import pandas as pd\n",
    "import numpy as np"
   ]
  },
  {
   "cell_type": "markdown",
   "metadata": {},
   "source": [
    "### Reading The CSV File"
   ]
  },
  {
   "cell_type": "code",
   "execution_count": 3,
   "metadata": {},
   "outputs": [],
   "source": [
    "insu=pd.read_csv('insurance.csv')"
   ]
  },
  {
   "cell_type": "code",
   "execution_count": 4,
   "metadata": {},
   "outputs": [
    {
     "data": {
      "text/html": [
       "<div>\n",
       "<style scoped>\n",
       "    .dataframe tbody tr th:only-of-type {\n",
       "        vertical-align: middle;\n",
       "    }\n",
       "\n",
       "    .dataframe tbody tr th {\n",
       "        vertical-align: top;\n",
       "    }\n",
       "\n",
       "    .dataframe thead th {\n",
       "        text-align: right;\n",
       "    }\n",
       "</style>\n",
       "<table border=\"1\" class=\"dataframe\">\n",
       "  <thead>\n",
       "    <tr style=\"text-align: right;\">\n",
       "      <th></th>\n",
       "      <th>member_name</th>\n",
       "      <th>email</th>\n",
       "      <th>gender</th>\n",
       "      <th>location</th>\n",
       "      <th>employer</th>\n",
       "      <th>relationship</th>\n",
       "      <th>patient_name</th>\n",
       "      <th>patient_suffix</th>\n",
       "      <th>patient_dob</th>\n",
       "      <th>cause</th>\n",
       "      <th>Fee_Charged</th>\n",
       "      <th>membership_period</th>\n",
       "      <th>number_of_claims</th>\n",
       "      <th>number_of_dependants</th>\n",
       "      <th>label</th>\n",
       "    </tr>\n",
       "  </thead>\n",
       "  <tbody>\n",
       "    <tr>\n",
       "      <th>0</th>\n",
       "      <td>Chipi</td>\n",
       "      <td>ajimmison0@sun.com</td>\n",
       "      <td>female</td>\n",
       "      <td>Kwekwe</td>\n",
       "      <td>Vipe</td>\n",
       "      <td>Grandfather</td>\n",
       "      <td>Mabhena</td>\n",
       "      <td>789</td>\n",
       "      <td>09-11-1997</td>\n",
       "      <td>Other</td>\n",
       "      <td>3798</td>\n",
       "      <td>1541</td>\n",
       "      <td>2</td>\n",
       "      <td>4</td>\n",
       "      <td>0</td>\n",
       "    </tr>\n",
       "    <tr>\n",
       "      <th>1</th>\n",
       "      <td>Femba</td>\n",
       "      <td>rsoonhouse1@google.it</td>\n",
       "      <td>female</td>\n",
       "      <td>Marondera</td>\n",
       "      <td>Mudo</td>\n",
       "      <td>Husband</td>\n",
       "      <td>Sithole</td>\n",
       "      <td>860</td>\n",
       "      <td>1/14/1992</td>\n",
       "      <td>Other</td>\n",
       "      <td>48905</td>\n",
       "      <td>8269</td>\n",
       "      <td>4</td>\n",
       "      <td>3</td>\n",
       "      <td>0</td>\n",
       "    </tr>\n",
       "    <tr>\n",
       "      <th>2</th>\n",
       "      <td>Geta</td>\n",
       "      <td>bchecchetelli2@house.gov</td>\n",
       "      <td>female</td>\n",
       "      <td>Rusape</td>\n",
       "      <td>Skaboo</td>\n",
       "      <td>Mother</td>\n",
       "      <td>Chipi</td>\n",
       "      <td>374</td>\n",
       "      <td>07-03-1999</td>\n",
       "      <td>Road Traffic Accident</td>\n",
       "      <td>39963</td>\n",
       "      <td>6223</td>\n",
       "      <td>2</td>\n",
       "      <td>2</td>\n",
       "      <td>0</td>\n",
       "    </tr>\n",
       "    <tr>\n",
       "      <th>3</th>\n",
       "      <td>Tichaona</td>\n",
       "      <td>mgarman3@psu.edu</td>\n",
       "      <td>female</td>\n",
       "      <td>Rusape</td>\n",
       "      <td>Babbleset</td>\n",
       "      <td>Father</td>\n",
       "      <td>Jembwa</td>\n",
       "      <td>729</td>\n",
       "      <td>7/31/1978</td>\n",
       "      <td>Road Traffic Accident</td>\n",
       "      <td>34948</td>\n",
       "      <td>8832</td>\n",
       "      <td>6</td>\n",
       "      <td>3</td>\n",
       "      <td>0</td>\n",
       "    </tr>\n",
       "    <tr>\n",
       "      <th>4</th>\n",
       "      <td>Chisa</td>\n",
       "      <td>ccough4@biglobe.ne.jp</td>\n",
       "      <td>female</td>\n",
       "      <td>Bulawayo</td>\n",
       "      <td>Flipopia</td>\n",
       "      <td>Father</td>\n",
       "      <td>Foto</td>\n",
       "      <td>716</td>\n",
       "      <td>12/28/1992</td>\n",
       "      <td>Accident At Work</td>\n",
       "      <td>46984</td>\n",
       "      <td>8804</td>\n",
       "      <td>1</td>\n",
       "      <td>2</td>\n",
       "      <td>1</td>\n",
       "    </tr>\n",
       "    <tr>\n",
       "      <th>5</th>\n",
       "      <td>Gweta</td>\n",
       "      <td>mhylden5@sfgate.com</td>\n",
       "      <td>female</td>\n",
       "      <td>Kwekwe</td>\n",
       "      <td>Brainverse</td>\n",
       "      <td>Daughter</td>\n",
       "      <td>Evans</td>\n",
       "      <td>160</td>\n",
       "      <td>06-12-1974</td>\n",
       "      <td>Other</td>\n",
       "      <td>37298</td>\n",
       "      <td>2445</td>\n",
       "      <td>2</td>\n",
       "      <td>4</td>\n",
       "      <td>0</td>\n",
       "    </tr>\n",
       "    <tr>\n",
       "      <th>6</th>\n",
       "      <td>Konde</td>\n",
       "      <td>mlent6@patch.com</td>\n",
       "      <td>male</td>\n",
       "      <td>Rusape</td>\n",
       "      <td>Photobug</td>\n",
       "      <td>Nepfew</td>\n",
       "      <td>Chiri</td>\n",
       "      <td>626</td>\n",
       "      <td>10/24/2001</td>\n",
       "      <td>Road Traffic Accident</td>\n",
       "      <td>33981</td>\n",
       "      <td>3715</td>\n",
       "      <td>4</td>\n",
       "      <td>1</td>\n",
       "      <td>0</td>\n",
       "    </tr>\n",
       "    <tr>\n",
       "      <th>7</th>\n",
       "      <td>Gweta</td>\n",
       "      <td>mpicford7@apple.com</td>\n",
       "      <td>male</td>\n",
       "      <td>Nyanga</td>\n",
       "      <td>Avamba</td>\n",
       "      <td>Brother</td>\n",
       "      <td>Chisa Chisi</td>\n",
       "      <td>318</td>\n",
       "      <td>1/17/1973</td>\n",
       "      <td>Other</td>\n",
       "      <td>5071</td>\n",
       "      <td>541</td>\n",
       "      <td>1</td>\n",
       "      <td>3</td>\n",
       "      <td>0</td>\n",
       "    </tr>\n",
       "    <tr>\n",
       "      <th>8</th>\n",
       "      <td>Sibanda</td>\n",
       "      <td>thappert8@psu.edu</td>\n",
       "      <td>male</td>\n",
       "      <td>Harare</td>\n",
       "      <td>Feedspan</td>\n",
       "      <td>Niece</td>\n",
       "      <td>Geta</td>\n",
       "      <td>715</td>\n",
       "      <td>06-05-2002</td>\n",
       "      <td>Other</td>\n",
       "      <td>22943</td>\n",
       "      <td>8690</td>\n",
       "      <td>5</td>\n",
       "      <td>2</td>\n",
       "      <td>1</td>\n",
       "    </tr>\n",
       "    <tr>\n",
       "      <th>9</th>\n",
       "      <td>Evans</td>\n",
       "      <td>erainbow9@pinterest.com</td>\n",
       "      <td>male</td>\n",
       "      <td>Masvingo</td>\n",
       "      <td>Fiveclub</td>\n",
       "      <td>Mother</td>\n",
       "      <td>Sithole</td>\n",
       "      <td>887</td>\n",
       "      <td>4/14/1984</td>\n",
       "      <td>Accident At Work</td>\n",
       "      <td>27104</td>\n",
       "      <td>6680</td>\n",
       "      <td>2</td>\n",
       "      <td>3</td>\n",
       "      <td>0</td>\n",
       "    </tr>\n",
       "  </tbody>\n",
       "</table>\n",
       "</div>"
      ],
      "text/plain": [
       "  member_name                     email  gender   location    employer  \\\n",
       "0       Chipi        ajimmison0@sun.com  female     Kwekwe        Vipe   \n",
       "1       Femba     rsoonhouse1@google.it  female  Marondera        Mudo   \n",
       "2        Geta  bchecchetelli2@house.gov  female     Rusape      Skaboo   \n",
       "3    Tichaona          mgarman3@psu.edu  female     Rusape   Babbleset   \n",
       "4       Chisa     ccough4@biglobe.ne.jp  female   Bulawayo    Flipopia   \n",
       "5       Gweta       mhylden5@sfgate.com  female     Kwekwe  Brainverse   \n",
       "6       Konde          mlent6@patch.com    male     Rusape    Photobug   \n",
       "7       Gweta       mpicford7@apple.com    male     Nyanga      Avamba   \n",
       "8     Sibanda         thappert8@psu.edu    male     Harare    Feedspan   \n",
       "9       Evans   erainbow9@pinterest.com    male   Masvingo    Fiveclub   \n",
       "\n",
       "  relationship patient_name  patient_suffix patient_dob  \\\n",
       "0  Grandfather      Mabhena             789  09-11-1997   \n",
       "1      Husband      Sithole             860   1/14/1992   \n",
       "2       Mother        Chipi             374  07-03-1999   \n",
       "3       Father       Jembwa             729   7/31/1978   \n",
       "4       Father         Foto             716  12/28/1992   \n",
       "5     Daughter        Evans             160  06-12-1974   \n",
       "6       Nepfew        Chiri             626  10/24/2001   \n",
       "7      Brother  Chisa Chisi             318   1/17/1973   \n",
       "8        Niece         Geta             715  06-05-2002   \n",
       "9       Mother      Sithole             887   4/14/1984   \n",
       "\n",
       "                   cause  Fee_Charged  membership_period  number_of_claims  \\\n",
       "0                  Other         3798               1541                 2   \n",
       "1                  Other        48905               8269                 4   \n",
       "2  Road Traffic Accident        39963               6223                 2   \n",
       "3  Road Traffic Accident        34948               8832                 6   \n",
       "4       Accident At Work        46984               8804                 1   \n",
       "5                  Other        37298               2445                 2   \n",
       "6  Road Traffic Accident        33981               3715                 4   \n",
       "7                  Other         5071                541                 1   \n",
       "8                  Other        22943               8690                 5   \n",
       "9       Accident At Work        27104               6680                 2   \n",
       "\n",
       "   number_of_dependants  label  \n",
       "0                     4      0  \n",
       "1                     3      0  \n",
       "2                     2      0  \n",
       "3                     3      0  \n",
       "4                     2      1  \n",
       "5                     4      0  \n",
       "6                     1      0  \n",
       "7                     3      0  \n",
       "8                     2      1  \n",
       "9                     3      0  "
      ]
     },
     "execution_count": 4,
     "metadata": {},
     "output_type": "execute_result"
    }
   ],
   "source": [
    "insu.head(10)"
   ]
  },
  {
   "cell_type": "markdown",
   "metadata": {},
   "source": [
    "### Know the size of the data"
   ]
  },
  {
   "cell_type": "code",
   "execution_count": 5,
   "metadata": {},
   "outputs": [
    {
     "data": {
      "text/plain": [
       "(11242, 15)"
      ]
     },
     "execution_count": 5,
     "metadata": {},
     "output_type": "execute_result"
    }
   ],
   "source": [
    "insu.shape # To see matrix structure."
   ]
  },
  {
   "cell_type": "markdown",
   "metadata": {},
   "source": [
    "### Know what are the columns are there in the csv file?"
   ]
  },
  {
   "cell_type": "code",
   "execution_count": 6,
   "metadata": {},
   "outputs": [
    {
     "data": {
      "text/plain": [
       "Index(['member_name', 'email', 'gender', 'location', 'employer',\n",
       "       'relationship', 'patient_name', 'patient_suffix', 'patient_dob',\n",
       "       'cause', 'Fee_Charged', 'membership_period', 'number_of_claims',\n",
       "       'number_of_dependants', 'label'],\n",
       "      dtype='object')"
      ]
     },
     "execution_count": 6,
     "metadata": {},
     "output_type": "execute_result"
    }
   ],
   "source": [
    "insu.columns"
   ]
  },
  {
   "cell_type": "markdown",
   "metadata": {},
   "source": [
    "### Information regarding csv File"
   ]
  },
  {
   "cell_type": "code",
   "execution_count": 7,
   "metadata": {},
   "outputs": [
    {
     "name": "stdout",
     "output_type": "stream",
     "text": [
      "<class 'pandas.core.frame.DataFrame'>\n",
      "RangeIndex: 11242 entries, 0 to 11241\n",
      "Data columns (total 15 columns):\n",
      " #   Column                Non-Null Count  Dtype \n",
      "---  ------                --------------  ----- \n",
      " 0   member_name           11242 non-null  object\n",
      " 1   email                 11242 non-null  object\n",
      " 2   gender                11242 non-null  object\n",
      " 3   location              11242 non-null  object\n",
      " 4   employer              11242 non-null  object\n",
      " 5   relationship          11242 non-null  object\n",
      " 6   patient_name          11242 non-null  object\n",
      " 7   patient_suffix        11242 non-null  int64 \n",
      " 8   patient_dob           11242 non-null  object\n",
      " 9   cause                 11242 non-null  object\n",
      " 10  Fee_Charged           11242 non-null  int64 \n",
      " 11  membership_period     11242 non-null  int64 \n",
      " 12  number_of_claims      11242 non-null  int64 \n",
      " 13  number_of_dependants  11242 non-null  int64 \n",
      " 14  label                 11242 non-null  int64 \n",
      "dtypes: int64(6), object(9)\n",
      "memory usage: 1.3+ MB\n"
     ]
    }
   ],
   "source": [
    "insu.info() "
   ]
  },
  {
   "cell_type": "markdown",
   "metadata": {},
   "source": [
    "### To check is there any null value?\n"
   ]
  },
  {
   "cell_type": "code",
   "execution_count": 8,
   "metadata": {},
   "outputs": [
    {
     "data": {
      "text/plain": [
       "member_name             0\n",
       "email                   0\n",
       "gender                  0\n",
       "location                0\n",
       "employer                0\n",
       "relationship            0\n",
       "patient_name            0\n",
       "patient_suffix          0\n",
       "patient_dob             0\n",
       "cause                   0\n",
       "Fee_Charged             0\n",
       "membership_period       0\n",
       "number_of_claims        0\n",
       "number_of_dependants    0\n",
       "label                   0\n",
       "dtype: int64"
      ]
     },
     "execution_count": 8,
     "metadata": {},
     "output_type": "execute_result"
    }
   ],
   "source": [
    "insu.isnull().sum() # if no null value are there No need to do dropna or fillna"
   ]
  },
  {
   "cell_type": "markdown",
   "metadata": {},
   "source": [
    "### To check any duplication of data"
   ]
  },
  {
   "cell_type": "code",
   "execution_count": 9,
   "metadata": {},
   "outputs": [
    {
     "data": {
      "text/plain": [
       "0        False\n",
       "1        False\n",
       "2        False\n",
       "3        False\n",
       "4        False\n",
       "         ...  \n",
       "11237     True\n",
       "11238     True\n",
       "11239     True\n",
       "11240     True\n",
       "11241     True\n",
       "Length: 11242, dtype: bool"
      ]
     },
     "execution_count": 9,
     "metadata": {},
     "output_type": "execute_result"
    }
   ],
   "source": [
    "insu.duplicated()"
   ]
  },
  {
   "cell_type": "markdown",
   "metadata": {},
   "source": [
    "### To Check How many duplicate data are there"
   ]
  },
  {
   "cell_type": "code",
   "execution_count": 10,
   "metadata": {},
   "outputs": [
    {
     "data": {
      "text/plain": [
       "4242"
      ]
     },
     "execution_count": 10,
     "metadata": {},
     "output_type": "execute_result"
    }
   ],
   "source": [
    "insu.duplicated().sum()"
   ]
  },
  {
   "cell_type": "markdown",
   "metadata": {},
   "source": [
    "### To remove duplicate Entries"
   ]
  },
  {
   "cell_type": "code",
   "execution_count": 11,
   "metadata": {},
   "outputs": [],
   "source": [
    "insu = insu.drop_duplicates()"
   ]
  },
  {
   "cell_type": "markdown",
   "metadata": {},
   "source": [
    "### Check data size after deleting duplicates"
   ]
  },
  {
   "cell_type": "code",
   "execution_count": 12,
   "metadata": {},
   "outputs": [
    {
     "data": {
      "text/plain": [
       "(7000, 15)"
      ]
     },
     "execution_count": 12,
     "metadata": {},
     "output_type": "execute_result"
    }
   ],
   "source": [
    "insu.shape"
   ]
  },
  {
   "cell_type": "markdown",
   "metadata": {},
   "source": [
    "### Information about csv file after removing duplicates"
   ]
  },
  {
   "cell_type": "code",
   "execution_count": 13,
   "metadata": {},
   "outputs": [
    {
     "name": "stdout",
     "output_type": "stream",
     "text": [
      "<class 'pandas.core.frame.DataFrame'>\n",
      "Int64Index: 7000 entries, 0 to 6999\n",
      "Data columns (total 15 columns):\n",
      " #   Column                Non-Null Count  Dtype \n",
      "---  ------                --------------  ----- \n",
      " 0   member_name           7000 non-null   object\n",
      " 1   email                 7000 non-null   object\n",
      " 2   gender                7000 non-null   object\n",
      " 3   location              7000 non-null   object\n",
      " 4   employer              7000 non-null   object\n",
      " 5   relationship          7000 non-null   object\n",
      " 6   patient_name          7000 non-null   object\n",
      " 7   patient_suffix        7000 non-null   int64 \n",
      " 8   patient_dob           7000 non-null   object\n",
      " 9   cause                 7000 non-null   object\n",
      " 10  Fee_Charged           7000 non-null   int64 \n",
      " 11  membership_period     7000 non-null   int64 \n",
      " 12  number_of_claims      7000 non-null   int64 \n",
      " 13  number_of_dependants  7000 non-null   int64 \n",
      " 14  label                 7000 non-null   int64 \n",
      "dtypes: int64(6), object(9)\n",
      "memory usage: 875.0+ KB\n"
     ]
    }
   ],
   "source": [
    "insu.info()"
   ]
  },
  {
   "cell_type": "markdown",
   "metadata": {},
   "source": [
    "### Let we check the unique data of Each columns."
   ]
  },
  {
   "cell_type": "code",
   "execution_count": 14,
   "metadata": {},
   "outputs": [
    {
     "data": {
      "text/plain": [
       "array(['female', 'male'], dtype=object)"
      ]
     },
     "execution_count": 14,
     "metadata": {},
     "output_type": "execute_result"
    }
   ],
   "source": [
    "insu['gender'].unique()"
   ]
  },
  {
   "cell_type": "code",
   "execution_count": 15,
   "metadata": {},
   "outputs": [
    {
     "data": {
      "text/plain": [
       "array(['Other', 'Road Traffic Accident', 'Accident At Work',\n",
       "       'Accident At Home'], dtype=object)"
      ]
     },
     "execution_count": 15,
     "metadata": {},
     "output_type": "execute_result"
    }
   ],
   "source": [
    "insu['cause'].unique()"
   ]
  },
  {
   "cell_type": "code",
   "execution_count": 16,
   "metadata": {},
   "outputs": [
    {
     "data": {
      "text/plain": [
       "array([ 3798, 48905, 39963, ..., 32895, 19082, 29020], dtype=int64)"
      ]
     },
     "execution_count": 16,
     "metadata": {},
     "output_type": "execute_result"
    }
   ],
   "source": [
    "insu['Fee_Charged'].unique()"
   ]
  },
  {
   "cell_type": "code",
   "execution_count": 17,
   "metadata": {},
   "outputs": [
    {
     "data": {
      "text/plain": [
       "array([1541, 8269, 6223, ..., 7887, 6478, 8293], dtype=int64)"
      ]
     },
     "execution_count": 17,
     "metadata": {},
     "output_type": "execute_result"
    }
   ],
   "source": [
    "insu['membership_period'].unique()"
   ]
  },
  {
   "cell_type": "code",
   "execution_count": 18,
   "metadata": {},
   "outputs": [
    {
     "data": {
      "text/plain": [
       "array([2, 4, 6, 1, 5, 3], dtype=int64)"
      ]
     },
     "execution_count": 18,
     "metadata": {},
     "output_type": "execute_result"
    }
   ],
   "source": [
    "insu['number_of_claims'].unique()"
   ]
  },
  {
   "cell_type": "code",
   "execution_count": 19,
   "metadata": {},
   "outputs": [
    {
     "data": {
      "text/plain": [
       "array([4, 3, 2, 1], dtype=int64)"
      ]
     },
     "execution_count": 19,
     "metadata": {},
     "output_type": "execute_result"
    }
   ],
   "source": [
    "insu['number_of_dependants'].unique()"
   ]
  },
  {
   "cell_type": "code",
   "execution_count": 20,
   "metadata": {},
   "outputs": [
    {
     "data": {
      "text/plain": [
       "array([0, 1], dtype=int64)"
      ]
     },
     "execution_count": 20,
     "metadata": {},
     "output_type": "execute_result"
    }
   ],
   "source": [
    "insu['label'].unique()"
   ]
  },
  {
   "cell_type": "markdown",
   "metadata": {},
   "source": [
    "## Replacing cause and gender data with values :"
   ]
  },
  {
   "cell_type": "markdown",
   "metadata": {},
   "source": [
    "### Changing the objects to numericals."
   ]
  },
  {
   "cell_type": "code",
   "execution_count": 21,
   "metadata": {},
   "outputs": [],
   "source": [
    "from sklearn.preprocessing import LabelEncoder\n",
    "le = LabelEncoder()\n",
    "\n",
    "var = ['cause','gender']\n",
    "\n",
    "for i in var:\n",
    "    insu[i] = le.fit_transform(insu[i]).astype(int)"
   ]
  },
  {
   "cell_type": "code",
   "execution_count": 22,
   "metadata": {},
   "outputs": [
    {
     "data": {
      "text/html": [
       "<div>\n",
       "<style scoped>\n",
       "    .dataframe tbody tr th:only-of-type {\n",
       "        vertical-align: middle;\n",
       "    }\n",
       "\n",
       "    .dataframe tbody tr th {\n",
       "        vertical-align: top;\n",
       "    }\n",
       "\n",
       "    .dataframe thead th {\n",
       "        text-align: right;\n",
       "    }\n",
       "</style>\n",
       "<table border=\"1\" class=\"dataframe\">\n",
       "  <thead>\n",
       "    <tr style=\"text-align: right;\">\n",
       "      <th></th>\n",
       "      <th>member_name</th>\n",
       "      <th>email</th>\n",
       "      <th>gender</th>\n",
       "      <th>location</th>\n",
       "      <th>employer</th>\n",
       "      <th>relationship</th>\n",
       "      <th>patient_name</th>\n",
       "      <th>patient_suffix</th>\n",
       "      <th>patient_dob</th>\n",
       "      <th>cause</th>\n",
       "      <th>Fee_Charged</th>\n",
       "      <th>membership_period</th>\n",
       "      <th>number_of_claims</th>\n",
       "      <th>number_of_dependants</th>\n",
       "      <th>label</th>\n",
       "    </tr>\n",
       "  </thead>\n",
       "  <tbody>\n",
       "    <tr>\n",
       "      <th>0</th>\n",
       "      <td>Chipi</td>\n",
       "      <td>ajimmison0@sun.com</td>\n",
       "      <td>0</td>\n",
       "      <td>Kwekwe</td>\n",
       "      <td>Vipe</td>\n",
       "      <td>Grandfather</td>\n",
       "      <td>Mabhena</td>\n",
       "      <td>789</td>\n",
       "      <td>09-11-1997</td>\n",
       "      <td>2</td>\n",
       "      <td>3798</td>\n",
       "      <td>1541</td>\n",
       "      <td>2</td>\n",
       "      <td>4</td>\n",
       "      <td>0</td>\n",
       "    </tr>\n",
       "    <tr>\n",
       "      <th>1</th>\n",
       "      <td>Femba</td>\n",
       "      <td>rsoonhouse1@google.it</td>\n",
       "      <td>0</td>\n",
       "      <td>Marondera</td>\n",
       "      <td>Mudo</td>\n",
       "      <td>Husband</td>\n",
       "      <td>Sithole</td>\n",
       "      <td>860</td>\n",
       "      <td>1/14/1992</td>\n",
       "      <td>2</td>\n",
       "      <td>48905</td>\n",
       "      <td>8269</td>\n",
       "      <td>4</td>\n",
       "      <td>3</td>\n",
       "      <td>0</td>\n",
       "    </tr>\n",
       "    <tr>\n",
       "      <th>2</th>\n",
       "      <td>Geta</td>\n",
       "      <td>bchecchetelli2@house.gov</td>\n",
       "      <td>0</td>\n",
       "      <td>Rusape</td>\n",
       "      <td>Skaboo</td>\n",
       "      <td>Mother</td>\n",
       "      <td>Chipi</td>\n",
       "      <td>374</td>\n",
       "      <td>07-03-1999</td>\n",
       "      <td>3</td>\n",
       "      <td>39963</td>\n",
       "      <td>6223</td>\n",
       "      <td>2</td>\n",
       "      <td>2</td>\n",
       "      <td>0</td>\n",
       "    </tr>\n",
       "    <tr>\n",
       "      <th>3</th>\n",
       "      <td>Tichaona</td>\n",
       "      <td>mgarman3@psu.edu</td>\n",
       "      <td>0</td>\n",
       "      <td>Rusape</td>\n",
       "      <td>Babbleset</td>\n",
       "      <td>Father</td>\n",
       "      <td>Jembwa</td>\n",
       "      <td>729</td>\n",
       "      <td>7/31/1978</td>\n",
       "      <td>3</td>\n",
       "      <td>34948</td>\n",
       "      <td>8832</td>\n",
       "      <td>6</td>\n",
       "      <td>3</td>\n",
       "      <td>0</td>\n",
       "    </tr>\n",
       "    <tr>\n",
       "      <th>4</th>\n",
       "      <td>Chisa</td>\n",
       "      <td>ccough4@biglobe.ne.jp</td>\n",
       "      <td>0</td>\n",
       "      <td>Bulawayo</td>\n",
       "      <td>Flipopia</td>\n",
       "      <td>Father</td>\n",
       "      <td>Foto</td>\n",
       "      <td>716</td>\n",
       "      <td>12/28/1992</td>\n",
       "      <td>1</td>\n",
       "      <td>46984</td>\n",
       "      <td>8804</td>\n",
       "      <td>1</td>\n",
       "      <td>2</td>\n",
       "      <td>1</td>\n",
       "    </tr>\n",
       "    <tr>\n",
       "      <th>...</th>\n",
       "      <td>...</td>\n",
       "      <td>...</td>\n",
       "      <td>...</td>\n",
       "      <td>...</td>\n",
       "      <td>...</td>\n",
       "      <td>...</td>\n",
       "      <td>...</td>\n",
       "      <td>...</td>\n",
       "      <td>...</td>\n",
       "      <td>...</td>\n",
       "      <td>...</td>\n",
       "      <td>...</td>\n",
       "      <td>...</td>\n",
       "      <td>...</td>\n",
       "      <td>...</td>\n",
       "    </tr>\n",
       "    <tr>\n",
       "      <th>6995</th>\n",
       "      <td>Mirwa</td>\n",
       "      <td>gcobbern@microsoft.com</td>\n",
       "      <td>1</td>\n",
       "      <td>Kwekwe</td>\n",
       "      <td>Trudeo</td>\n",
       "      <td>Grandmother</td>\n",
       "      <td>Mabhena</td>\n",
       "      <td>595</td>\n",
       "      <td>11/30/1984</td>\n",
       "      <td>2</td>\n",
       "      <td>25308</td>\n",
       "      <td>6478</td>\n",
       "      <td>4</td>\n",
       "      <td>3</td>\n",
       "      <td>0</td>\n",
       "    </tr>\n",
       "    <tr>\n",
       "      <th>6996</th>\n",
       "      <td>Chisa Chisi</td>\n",
       "      <td>ebrasierro@sakura.ne.jp</td>\n",
       "      <td>1</td>\n",
       "      <td>Gweru</td>\n",
       "      <td>Jetwire</td>\n",
       "      <td>Husband</td>\n",
       "      <td>Bima</td>\n",
       "      <td>158</td>\n",
       "      <td>08-06-1986</td>\n",
       "      <td>0</td>\n",
       "      <td>32895</td>\n",
       "      <td>438</td>\n",
       "      <td>1</td>\n",
       "      <td>1</td>\n",
       "      <td>0</td>\n",
       "    </tr>\n",
       "    <tr>\n",
       "      <th>6997</th>\n",
       "      <td>Evans</td>\n",
       "      <td>ybuckyrp@slashdot.org</td>\n",
       "      <td>1</td>\n",
       "      <td>Rusape</td>\n",
       "      <td>Realpoint</td>\n",
       "      <td>Daughter</td>\n",
       "      <td>Dihwa</td>\n",
       "      <td>743</td>\n",
       "      <td>2/13/1980</td>\n",
       "      <td>0</td>\n",
       "      <td>19082</td>\n",
       "      <td>8134</td>\n",
       "      <td>3</td>\n",
       "      <td>1</td>\n",
       "      <td>0</td>\n",
       "    </tr>\n",
       "    <tr>\n",
       "      <th>6998</th>\n",
       "      <td>Femba</td>\n",
       "      <td>raskawrq@washington.edu</td>\n",
       "      <td>0</td>\n",
       "      <td>Gweru</td>\n",
       "      <td>Eimbee</td>\n",
       "      <td>Brother</td>\n",
       "      <td>Peterson</td>\n",
       "      <td>472</td>\n",
       "      <td>12/28/2001</td>\n",
       "      <td>2</td>\n",
       "      <td>31717</td>\n",
       "      <td>8293</td>\n",
       "      <td>4</td>\n",
       "      <td>3</td>\n",
       "      <td>1</td>\n",
       "    </tr>\n",
       "    <tr>\n",
       "      <th>6999</th>\n",
       "      <td>Sithole</td>\n",
       "      <td>wlantrr@quantcast.com</td>\n",
       "      <td>1</td>\n",
       "      <td>Gweru</td>\n",
       "      <td>Camimbo</td>\n",
       "      <td>Mother</td>\n",
       "      <td>Sibanda</td>\n",
       "      <td>625</td>\n",
       "      <td>3/21/2003</td>\n",
       "      <td>2</td>\n",
       "      <td>29020</td>\n",
       "      <td>3686</td>\n",
       "      <td>3</td>\n",
       "      <td>4</td>\n",
       "      <td>0</td>\n",
       "    </tr>\n",
       "  </tbody>\n",
       "</table>\n",
       "<p>7000 rows × 15 columns</p>\n",
       "</div>"
      ],
      "text/plain": [
       "      member_name                     email  gender   location   employer  \\\n",
       "0           Chipi        ajimmison0@sun.com       0     Kwekwe       Vipe   \n",
       "1           Femba     rsoonhouse1@google.it       0  Marondera       Mudo   \n",
       "2            Geta  bchecchetelli2@house.gov       0     Rusape     Skaboo   \n",
       "3        Tichaona          mgarman3@psu.edu       0     Rusape  Babbleset   \n",
       "4           Chisa     ccough4@biglobe.ne.jp       0   Bulawayo   Flipopia   \n",
       "...           ...                       ...     ...        ...        ...   \n",
       "6995        Mirwa    gcobbern@microsoft.com       1     Kwekwe     Trudeo   \n",
       "6996  Chisa Chisi   ebrasierro@sakura.ne.jp       1      Gweru    Jetwire   \n",
       "6997        Evans     ybuckyrp@slashdot.org       1     Rusape  Realpoint   \n",
       "6998        Femba   raskawrq@washington.edu       0      Gweru     Eimbee   \n",
       "6999      Sithole     wlantrr@quantcast.com       1      Gweru    Camimbo   \n",
       "\n",
       "     relationship patient_name  patient_suffix patient_dob  cause  \\\n",
       "0     Grandfather      Mabhena             789  09-11-1997      2   \n",
       "1         Husband      Sithole             860   1/14/1992      2   \n",
       "2          Mother        Chipi             374  07-03-1999      3   \n",
       "3          Father       Jembwa             729   7/31/1978      3   \n",
       "4          Father         Foto             716  12/28/1992      1   \n",
       "...           ...          ...             ...         ...    ...   \n",
       "6995  Grandmother      Mabhena             595  11/30/1984      2   \n",
       "6996      Husband         Bima             158  08-06-1986      0   \n",
       "6997     Daughter        Dihwa             743   2/13/1980      0   \n",
       "6998      Brother     Peterson             472  12/28/2001      2   \n",
       "6999       Mother      Sibanda             625   3/21/2003      2   \n",
       "\n",
       "      Fee_Charged  membership_period  number_of_claims  number_of_dependants  \\\n",
       "0            3798               1541                 2                     4   \n",
       "1           48905               8269                 4                     3   \n",
       "2           39963               6223                 2                     2   \n",
       "3           34948               8832                 6                     3   \n",
       "4           46984               8804                 1                     2   \n",
       "...           ...                ...               ...                   ...   \n",
       "6995        25308               6478                 4                     3   \n",
       "6996        32895                438                 1                     1   \n",
       "6997        19082               8134                 3                     1   \n",
       "6998        31717               8293                 4                     3   \n",
       "6999        29020               3686                 3                     4   \n",
       "\n",
       "      label  \n",
       "0         0  \n",
       "1         0  \n",
       "2         0  \n",
       "3         0  \n",
       "4         1  \n",
       "...     ...  \n",
       "6995      0  \n",
       "6996      0  \n",
       "6997      0  \n",
       "6998      1  \n",
       "6999      0  \n",
       "\n",
       "[7000 rows x 15 columns]"
      ]
     },
     "execution_count": 22,
     "metadata": {},
     "output_type": "execute_result"
    }
   ],
   "source": [
    "insu"
   ]
  },
  {
   "cell_type": "markdown",
   "metadata": {},
   "source": [
    "### Again Check the unique values"
   ]
  },
  {
   "cell_type": "code",
   "execution_count": 23,
   "metadata": {},
   "outputs": [
    {
     "name": "stdout",
     "output_type": "stream",
     "text": [
      "[0 1]\n",
      "[2 3 1 0]\n",
      "[ 3798 48905 39963 ... 32895 19082 29020]\n",
      "[1541 8269 6223 ... 7887 6478 8293]\n",
      "[2 4 6 1 5 3]\n",
      "[4 3 2 1]\n"
     ]
    }
   ],
   "source": [
    "features=['gender','cause','Fee_Charged','membership_period','number_of_claims','number_of_dependants']\n",
    "target=['label']\n",
    "for i in features:\n",
    "    z=insu[i].unique()\n",
    "    print(z)"
   ]
  },
  {
   "cell_type": "code",
   "execution_count": 24,
   "metadata": {},
   "outputs": [
    {
     "data": {
      "text/html": [
       "<div>\n",
       "<style scoped>\n",
       "    .dataframe tbody tr th:only-of-type {\n",
       "        vertical-align: middle;\n",
       "    }\n",
       "\n",
       "    .dataframe tbody tr th {\n",
       "        vertical-align: top;\n",
       "    }\n",
       "\n",
       "    .dataframe thead th {\n",
       "        text-align: right;\n",
       "    }\n",
       "</style>\n",
       "<table border=\"1\" class=\"dataframe\">\n",
       "  <thead>\n",
       "    <tr style=\"text-align: right;\">\n",
       "      <th></th>\n",
       "      <th>gender</th>\n",
       "      <th>patient_suffix</th>\n",
       "      <th>cause</th>\n",
       "      <th>Fee_Charged</th>\n",
       "      <th>membership_period</th>\n",
       "      <th>number_of_claims</th>\n",
       "      <th>number_of_dependants</th>\n",
       "      <th>label</th>\n",
       "    </tr>\n",
       "  </thead>\n",
       "  <tbody>\n",
       "    <tr>\n",
       "      <th>gender</th>\n",
       "      <td>1.000000</td>\n",
       "      <td>-0.004818</td>\n",
       "      <td>-0.003877</td>\n",
       "      <td>0.016833</td>\n",
       "      <td>0.008275</td>\n",
       "      <td>-0.010652</td>\n",
       "      <td>-0.005804</td>\n",
       "      <td>0.000684</td>\n",
       "    </tr>\n",
       "    <tr>\n",
       "      <th>patient_suffix</th>\n",
       "      <td>-0.004818</td>\n",
       "      <td>1.000000</td>\n",
       "      <td>-0.008980</td>\n",
       "      <td>-0.018051</td>\n",
       "      <td>-0.005959</td>\n",
       "      <td>0.002866</td>\n",
       "      <td>-0.008423</td>\n",
       "      <td>-0.001051</td>\n",
       "    </tr>\n",
       "    <tr>\n",
       "      <th>cause</th>\n",
       "      <td>-0.003877</td>\n",
       "      <td>-0.008980</td>\n",
       "      <td>1.000000</td>\n",
       "      <td>-0.003148</td>\n",
       "      <td>-0.012087</td>\n",
       "      <td>0.017807</td>\n",
       "      <td>-0.003160</td>\n",
       "      <td>0.002203</td>\n",
       "    </tr>\n",
       "    <tr>\n",
       "      <th>Fee_Charged</th>\n",
       "      <td>0.016833</td>\n",
       "      <td>-0.018051</td>\n",
       "      <td>-0.003148</td>\n",
       "      <td>1.000000</td>\n",
       "      <td>0.004625</td>\n",
       "      <td>-0.014635</td>\n",
       "      <td>-0.010560</td>\n",
       "      <td>0.011846</td>\n",
       "    </tr>\n",
       "    <tr>\n",
       "      <th>membership_period</th>\n",
       "      <td>0.008275</td>\n",
       "      <td>-0.005959</td>\n",
       "      <td>-0.012087</td>\n",
       "      <td>0.004625</td>\n",
       "      <td>1.000000</td>\n",
       "      <td>-0.001084</td>\n",
       "      <td>-0.019292</td>\n",
       "      <td>-0.010831</td>\n",
       "    </tr>\n",
       "    <tr>\n",
       "      <th>number_of_claims</th>\n",
       "      <td>-0.010652</td>\n",
       "      <td>0.002866</td>\n",
       "      <td>0.017807</td>\n",
       "      <td>-0.014635</td>\n",
       "      <td>-0.001084</td>\n",
       "      <td>1.000000</td>\n",
       "      <td>-0.020563</td>\n",
       "      <td>-0.005216</td>\n",
       "    </tr>\n",
       "    <tr>\n",
       "      <th>number_of_dependants</th>\n",
       "      <td>-0.005804</td>\n",
       "      <td>-0.008423</td>\n",
       "      <td>-0.003160</td>\n",
       "      <td>-0.010560</td>\n",
       "      <td>-0.019292</td>\n",
       "      <td>-0.020563</td>\n",
       "      <td>1.000000</td>\n",
       "      <td>-0.015572</td>\n",
       "    </tr>\n",
       "    <tr>\n",
       "      <th>label</th>\n",
       "      <td>0.000684</td>\n",
       "      <td>-0.001051</td>\n",
       "      <td>0.002203</td>\n",
       "      <td>0.011846</td>\n",
       "      <td>-0.010831</td>\n",
       "      <td>-0.005216</td>\n",
       "      <td>-0.015572</td>\n",
       "      <td>1.000000</td>\n",
       "    </tr>\n",
       "  </tbody>\n",
       "</table>\n",
       "</div>"
      ],
      "text/plain": [
       "                        gender  patient_suffix     cause  Fee_Charged  \\\n",
       "gender                1.000000       -0.004818 -0.003877     0.016833   \n",
       "patient_suffix       -0.004818        1.000000 -0.008980    -0.018051   \n",
       "cause                -0.003877       -0.008980  1.000000    -0.003148   \n",
       "Fee_Charged           0.016833       -0.018051 -0.003148     1.000000   \n",
       "membership_period     0.008275       -0.005959 -0.012087     0.004625   \n",
       "number_of_claims     -0.010652        0.002866  0.017807    -0.014635   \n",
       "number_of_dependants -0.005804       -0.008423 -0.003160    -0.010560   \n",
       "label                 0.000684       -0.001051  0.002203     0.011846   \n",
       "\n",
       "                      membership_period  number_of_claims  \\\n",
       "gender                         0.008275         -0.010652   \n",
       "patient_suffix                -0.005959          0.002866   \n",
       "cause                         -0.012087          0.017807   \n",
       "Fee_Charged                    0.004625         -0.014635   \n",
       "membership_period              1.000000         -0.001084   \n",
       "number_of_claims              -0.001084          1.000000   \n",
       "number_of_dependants          -0.019292         -0.020563   \n",
       "label                         -0.010831         -0.005216   \n",
       "\n",
       "                      number_of_dependants     label  \n",
       "gender                           -0.005804  0.000684  \n",
       "patient_suffix                   -0.008423 -0.001051  \n",
       "cause                            -0.003160  0.002203  \n",
       "Fee_Charged                      -0.010560  0.011846  \n",
       "membership_period                -0.019292 -0.010831  \n",
       "number_of_claims                 -0.020563 -0.005216  \n",
       "number_of_dependants              1.000000 -0.015572  \n",
       "label                            -0.015572  1.000000  "
      ]
     },
     "execution_count": 24,
     "metadata": {},
     "output_type": "execute_result"
    }
   ],
   "source": [
    "insu.corr()"
   ]
  },
  {
   "cell_type": "code",
   "execution_count": null,
   "metadata": {},
   "outputs": [],
   "source": []
  }
 ],
 "metadata": {
  "kernelspec": {
   "display_name": "Python 3 (ipykernel)",
   "language": "python",
   "name": "python3"
  },
  "language_info": {
   "codemirror_mode": {
    "name": "ipython",
    "version": 3
   },
   "file_extension": ".py",
   "mimetype": "text/x-python",
   "name": "python",
   "nbconvert_exporter": "python",
   "pygments_lexer": "ipython3",
   "version": "3.10.9"
  }
 },
 "nbformat": 4,
 "nbformat_minor": 2
}
